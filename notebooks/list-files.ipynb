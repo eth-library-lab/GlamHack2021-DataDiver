{
 "metadata": {
  "language_info": {
   "codemirror_mode": {
    "name": "ipython",
    "version": 3
   },
   "file_extension": ".py",
   "mimetype": "text/x-python",
   "name": "python",
   "nbconvert_exporter": "python",
   "pygments_lexer": "ipython3",
   "version": "3.8.3-final"
  },
  "orig_nbformat": 2,
  "kernelspec": {
   "name": "python3",
   "display_name": "Python 3",
   "language": "python"
  }
 },
 "nbformat": 4,
 "nbformat_minor": 2,
 "cells": [
  {
   "cell_type": "code",
   "execution_count": 40,
   "metadata": {},
   "outputs": [],
   "source": [
    "import os\n",
    "import zipfile\n",
    "import numpy as np\n",
    "import pandas as pd\n"
   ]
  },
  {
   "cell_type": "code",
   "execution_count": 93,
   "metadata": {},
   "outputs": [],
   "source": [
    "def infolist_to_dict(infolist):\n",
    "\n",
    "    \"\"\"return a dict with some key attributes from the ZipInfo object\"\"\"\n",
    "     \n",
    "    info_dict = {\n",
    "        'filename':[],\n",
    "        'file_size':[],\n",
    "        'file_type':[],\n",
    "        }\n",
    "\n",
    "    for info in infolist:\n",
    "        # is it faster to store fname as a temp var or access the attribute twice?\n",
    "        fname = info.filename\n",
    "        ftype = fname.split('.')[-1].lower()\n",
    "        info_dict['filename'].append(fname)\n",
    "        info_dict['file_size'].append(info.file_size)\n",
    "        info_dict['file_type'].append(ftype)\n",
    "\n",
    "    for k,v in info_dict.items():\n",
    "        info_dict[k] = np.array(v)\n",
    "    \n",
    "    return info_dict"
   ]
  },
  {
   "cell_type": "code",
   "execution_count": 94,
   "metadata": {},
   "outputs": [],
   "source": [
    "def number_of_files_summary(info_dict):\n",
    "    \n",
    "    ftypes = np.unique(info_dict['file_type'])\n",
    "    print(f\"number of files: {len(info_dict['file_type'])}\")\n",
    "\n",
    "    for ftype in ftypes:\n",
    "        count = np.sum(info_dict['file_type'] == ftype)\n",
    "        print(\"    {}: {:,}\".format(ftype, count))  \n",
    "    "
   ]
  },
  {
   "cell_type": "code",
   "execution_count": 150,
   "metadata": {},
   "outputs": [],
   "source": [
    "def find_max_or_min_file_size(info_dict, find='max'):\n",
    "\n",
    "    if find=='max':\n",
    "        size = info_dict['file_size'].max()\n",
    "\n",
    "    if find=='min':\n",
    "        size = info_dict['file_size'].min()\n",
    "    \n",
    "    idx = np.where(info_dict['file_size'] == size)[0] # take first result\n",
    "    fname = info_dict['filename'][idx][0]\n",
    "\n",
    "    return fname, size\n",
    "\n",
    "\n",
    "def format_bytes(size):\n",
    "    # from https://stackoverflow.com/questions/12523586/python-format-size-application-converting-b-to-kb-mb-gb-tb\n",
    "    # 2**10 = 1024\n",
    "    power = 2**10\n",
    "    n = 0\n",
    "    power_labels = {0 : '', 1: 'kilo', 2: 'mega', 3: 'giga', 4: 'tera'}\n",
    "    while size > power:\n",
    "        size /= power\n",
    "        n += 1\n",
    "\n",
    "    label = power_labels[n]+'bytes'\n",
    "\n",
    "    return \"{:.3f} {}\".format(size,label)\n"
   ]
  },
  {
   "cell_type": "code",
   "execution_count": 152,
   "metadata": {},
   "outputs": [
    {
     "output_type": "execute_result",
     "data": {
      "text/plain": [
       "'329.126 kilobytes'"
      ]
     },
     "metadata": {},
     "execution_count": 152
    }
   ],
   "source": [
    "format_bytes(size)"
   ]
  },
  {
   "cell_type": "code",
   "execution_count": 154,
   "metadata": {},
   "outputs": [
    {
     "output_type": "stream",
     "name": "stdout",
     "text": [
      "   largest file: 2/2803.png (329.126 kilobytes)\n"
     ]
    }
   ],
   "source": []
  },
  {
   "cell_type": "code",
   "execution_count": 95,
   "metadata": {},
   "outputs": [
    {
     "output_type": "execute_result",
     "data": {
      "text/plain": [
       "<bound method ZipInfo.is_dir of <ZipInfo filename='0/128.png' compress_type=deflate external_attr=0x20 file_size=256942 compress_size=255445>>"
      ]
     },
     "metadata": {},
     "execution_count": 95
    }
   ],
   "source": [
    "# Import zipfile module\n",
    "# Read in zipfile\n",
    "\n",
    "fpath = \"../data/raw/graphische_sammlung_sample.zip\"\n",
    "f = zipfile.ZipFile(fpath, \"r\")\n",
    "\n",
    "# list of file names of files in zipfile\n",
    "flist = f.namelist()\n",
    "\n",
    "# list with info about files in zipfile\n",
    "infolist = f.infolist()\n",
    "\n",
    "# atrributes of a specific file\n",
    "info_obj.filename\n",
    "info_obj.is_dir"
   ]
  },
  {
   "cell_type": "code",
   "execution_count": 160,
   "metadata": {},
   "outputs": [
    {
     "output_type": "stream",
     "name": "stdout",
     "text": [
      "number of files: 359\n    csv: 1\n    png: 358\nmax file size:\n    2/2803.png  329.126 kilobytes\nmin file size:\n    1/1288.png  62.265 kilobytes\n"
     ]
    }
   ],
   "source": [
    "info_dict = infolist_to_dict(infolist)\n",
    "number_of_files_summary(info_dict)\n",
    "\n",
    "for find in ['max','min']:\n",
    "    fname, size = find_max_or_min_file_size(info_dict, find=find)\n",
    "    print('{} file size:\\n    {}  {}'.format(find, fname, format_bytes(size)))"
   ]
  },
  {
   "cell_type": "code",
   "execution_count": null,
   "metadata": {},
   "outputs": [],
   "source": []
  },
  {
   "cell_type": "code",
   "execution_count": null,
   "metadata": {},
   "outputs": [],
   "source": []
  },
  {
   "cell_type": "code",
   "execution_count": null,
   "metadata": {},
   "outputs": [],
   "source": []
  },
  {
   "cell_type": "code",
   "execution_count": 92,
   "metadata": {},
   "outputs": [
    {
     "output_type": "execute_result",
     "data": {
      "text/plain": [
       "       filename  file_size file_type\n",
       "0     0/128.png     256942       png\n",
       "1     0/133.png     286240       png\n",
       "2     0/140.png     218997       png\n",
       "3     0/149.png     214385       png\n",
       "4     0/152.png     283019       png\n",
       "..          ...        ...       ...\n",
       "354  2/2979.png     109186       png\n",
       "355  2/2980.png     193005       png\n",
       "356  2/2982.png     248440       png\n",
       "357  2/2994.png     251041       png\n",
       "358  prints.csv     331741       csv\n",
       "\n",
       "[359 rows x 3 columns]"
      ],
      "text/html": "<div>\n<style scoped>\n    .dataframe tbody tr th:only-of-type {\n        vertical-align: middle;\n    }\n\n    .dataframe tbody tr th {\n        vertical-align: top;\n    }\n\n    .dataframe thead th {\n        text-align: right;\n    }\n</style>\n<table border=\"1\" class=\"dataframe\">\n  <thead>\n    <tr style=\"text-align: right;\">\n      <th></th>\n      <th>filename</th>\n      <th>file_size</th>\n      <th>file_type</th>\n    </tr>\n  </thead>\n  <tbody>\n    <tr>\n      <th>0</th>\n      <td>0/128.png</td>\n      <td>256942</td>\n      <td>png</td>\n    </tr>\n    <tr>\n      <th>1</th>\n      <td>0/133.png</td>\n      <td>286240</td>\n      <td>png</td>\n    </tr>\n    <tr>\n      <th>2</th>\n      <td>0/140.png</td>\n      <td>218997</td>\n      <td>png</td>\n    </tr>\n    <tr>\n      <th>3</th>\n      <td>0/149.png</td>\n      <td>214385</td>\n      <td>png</td>\n    </tr>\n    <tr>\n      <th>4</th>\n      <td>0/152.png</td>\n      <td>283019</td>\n      <td>png</td>\n    </tr>\n    <tr>\n      <th>...</th>\n      <td>...</td>\n      <td>...</td>\n      <td>...</td>\n    </tr>\n    <tr>\n      <th>354</th>\n      <td>2/2979.png</td>\n      <td>109186</td>\n      <td>png</td>\n    </tr>\n    <tr>\n      <th>355</th>\n      <td>2/2980.png</td>\n      <td>193005</td>\n      <td>png</td>\n    </tr>\n    <tr>\n      <th>356</th>\n      <td>2/2982.png</td>\n      <td>248440</td>\n      <td>png</td>\n    </tr>\n    <tr>\n      <th>357</th>\n      <td>2/2994.png</td>\n      <td>251041</td>\n      <td>png</td>\n    </tr>\n    <tr>\n      <th>358</th>\n      <td>prints.csv</td>\n      <td>331741</td>\n      <td>csv</td>\n    </tr>\n  </tbody>\n</table>\n<p>359 rows × 3 columns</p>\n</div>"
     },
     "metadata": {},
     "execution_count": 92
    }
   ],
   "source": [
    "df_info = pd.DataFrame(info_dict)\n",
    "df_info"
   ]
  },
  {
   "cell_type": "code",
   "execution_count": 41,
   "metadata": {},
   "outputs": [
    {
     "output_type": "execute_result",
     "data": {
      "text/plain": [
       "256942"
      ]
     },
     "metadata": {},
     "execution_count": 41
    }
   ],
   "source": [
    "info_obj = infolist[0]\n",
    "info_obj.file_size"
   ]
  },
  {
   "cell_type": "code",
   "execution_count": 18,
   "metadata": {},
   "outputs": [
    {
     "output_type": "execute_result",
     "data": {
      "text/plain": [
       "232795"
      ]
     },
     "metadata": {},
     "execution_count": 18
    }
   ],
   "source": [
    "f.getinfo('1/1528.png')"
   ]
  },
  {
   "cell_type": "code",
   "execution_count": 7,
   "metadata": {},
   "outputs": [
    {
     "output_type": "execute_result",
     "data": {
      "text/plain": [
       "array(['0/128.png', '0/133.png', '0/140.png', '0/149.png', '0/152.png'],\n",
       "      dtype='<U9')"
      ]
     },
     "metadata": {},
     "execution_count": 7
    }
   ],
   "source": [
    "np.unique(flist[:5])"
   ]
  },
  {
   "cell_type": "code",
   "execution_count": null,
   "metadata": {},
   "outputs": [],
   "source": []
  }
 ]
}